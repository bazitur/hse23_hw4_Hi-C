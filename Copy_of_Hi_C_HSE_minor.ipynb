{
 "cells": [
  {
   "cell_type": "markdown",
   "metadata": {
    "id": "bT9Zmb4IWpt-"
   },
   "source": [
    "Read the https://pairtools.readthedocs.io/en/latest/ and https://cooler.readthedocs.io/en/latest/index.html\n",
    "for more information"
   ]
  },
  {
   "cell_type": "code",
   "execution_count": 1,
   "metadata": {
    "colab": {
     "base_uri": "https://localhost:8080/"
    },
    "id": "NUHB0MTIJ65A",
    "outputId": "4a034d08-9684-4e27-b85d-8c8a775bde5a"
   },
   "outputs": [
    {
     "name": "stdout",
     "output_type": "stream",
     "text": [
      "⏬ Downloading https://github.com/conda-forge/miniforge/releases/download/23.1.0-1/Mambaforge-23.1.0-1-Linux-x86_64.sh...\n",
      "📦 Installing...\n",
      "📌 Adjusting configuration...\n",
      "🩹 Patching environment...\n",
      "⏲ Done in 0:00:26\n",
      "🔁 Restarting kernel...\n"
     ]
    }
   ],
   "source": [
    "!pip install -q condacolab\n",
    "import condacolab\n",
    "condacolab.install()\n"
   ]
  },
  {
   "cell_type": "markdown",
   "metadata": {
    "id": "sOZreAWrdEMH"
   },
   "source": [
    "Homework report should include:  \n",
    "1) scaling plot in log-log coordinates with description; create correct labels for scaling plot, including units of measurement; make comments on operations in cell starting with ##!!!  \n",
    "2) replicates clusterization for all files (in directory for the lecture) with dendrogram and description;  make comments on operations in cells starting with ##!!!  "
   ]
  },
  {
   "cell_type": "code",
   "execution_count": 2,
   "metadata": {
    "colab": {
     "base_uri": "https://localhost:8080/"
    },
    "id": "D6J4SbLzJ8Ch",
    "outputId": "35ab3b52-1e24-4ceb-fde9-283dd9276bcc"
   },
   "outputs": [
    {
     "name": "stdout",
     "output_type": "stream",
     "text": [
      "Looking in indexes: https://pypi.org/simple, https://us-python.pkg.dev/colab-wheels/public/simple/\n",
      "Collecting cooler\n",
      "  Downloading cooler-0.9.1-py2.py3-none-any.whl (103 kB)\n",
      "     ━━━━━━━━━━━━━━━━━━━━━━━━━━━━━━━━━━━━━━━ 103.9/103.9 kB 3.8 MB/s eta 0:00:00\n",
      "Collecting pyyaml\n",
      "  Downloading PyYAML-6.0-cp310-cp310-manylinux_2_5_x86_64.manylinux1_x86_64.manylinux_2_12_x86_64.manylinux2010_x86_64.whl (682 kB)\n",
      "     ━━━━━━━━━━━━━━━━━━━━━━━━━━━━━━━━━━━━━━ 682.2/682.2 kB 10.4 MB/s eta 0:00:00\n",
      "Collecting numpy>=1.9\n",
      "  Downloading numpy-1.24.3-cp310-cp310-manylinux_2_17_x86_64.manylinux2014_x86_64.whl (17.3 MB)\n",
      "     ━━━━━━━━━━━━━━━━━━━━━━━━━━━━━━━━━━━━━━━━ 17.3/17.3 MB 35.4 MB/s eta 0:00:00\n",
      "Collecting click>=7\n",
      "  Downloading click-8.1.3-py3-none-any.whl (96 kB)\n",
      "     ━━━━━━━━━━━━━━━━━━━━━━━━━━━━━━━━━━━━━━━━ 96.6/96.6 kB 5.3 MB/s eta 0:00:00\n",
      "Collecting h5py>=2.5\n",
      "  Downloading h5py-3.8.0-cp310-cp310-manylinux_2_17_x86_64.manylinux2014_x86_64.whl (4.6 MB)\n",
      "     ━━━━━━━━━━━━━━━━━━━━━━━━━━━━━━━━━━━━━━━━ 4.6/4.6 MB 28.2 MB/s eta 0:00:00\n",
      "Collecting multiprocess\n",
      "  Downloading multiprocess-0.70.14-py310-none-any.whl (134 kB)\n",
      "     ━━━━━━━━━━━━━━━━━━━━━━━━━━━━━━━━━━━━━━━ 134.3/134.3 kB 3.6 MB/s eta 0:00:00\n",
      "Collecting pandas>1.0\n",
      "  Downloading pandas-2.0.1-cp310-cp310-manylinux_2_17_x86_64.manylinux2014_x86_64.whl (12.3 MB)\n",
      "     ━━━━━━━━━━━━━━━━━━━━━━━━━━━━━━━━━━━━━━━━ 12.3/12.3 MB 54.0 MB/s eta 0:00:00\n",
      "Collecting asciitree\n",
      "  Downloading asciitree-0.3.3.tar.gz (4.0 kB)\n",
      "  Preparing metadata (setup.py): started\n",
      "  Preparing metadata (setup.py): finished with status 'done'\n",
      "Collecting scipy>=0.16\n",
      "  Downloading scipy-1.10.1-cp310-cp310-manylinux_2_17_x86_64.manylinux2014_x86_64.whl (34.4 MB)\n",
      "     ━━━━━━━━━━━━━━━━━━━━━━━━━━━━━━━━━━━━━━━━ 34.4/34.4 MB 28.7 MB/s eta 0:00:00\n",
      "Collecting cytoolz\n",
      "  Downloading cytoolz-0.12.1-cp310-cp310-manylinux_2_17_x86_64.manylinux2014_x86_64.whl (1.8 MB)\n",
      "     ━━━━━━━━━━━━━━━━━━━━━━━━━━━━━━━━━━━━━━━━ 1.8/1.8 MB 69.9 MB/s eta 0:00:00\n",
      "Collecting simplejson\n",
      "  Downloading simplejson-3.19.1-cp310-cp310-manylinux_2_5_x86_64.manylinux1_x86_64.manylinux_2_17_x86_64.manylinux2014_x86_64.whl (137 kB)\n",
      "     ━━━━━━━━━━━━━━━━━━━━━━━━━━━━━━━━━━━━━━ 137.9/137.9 kB 15.5 MB/s eta 0:00:00\n",
      "Collecting pyfaidx\n",
      "  Downloading pyfaidx-0.7.2.1-py3-none-any.whl (28 kB)\n",
      "Collecting tzdata>=2022.1\n",
      "  Downloading tzdata-2023.3-py2.py3-none-any.whl (341 kB)\n",
      "     ━━━━━━━━━━━━━━━━━━━━━━━━━━━━━━━━━━━━━━ 341.8/341.8 kB 33.5 MB/s eta 0:00:00\n",
      "Collecting pytz>=2020.1\n",
      "  Downloading pytz-2023.3-py2.py3-none-any.whl (502 kB)\n",
      "     ━━━━━━━━━━━━━━━━━━━━━━━━━━━━━━━━━━━━━━ 502.3/502.3 kB 41.9 MB/s eta 0:00:00\n",
      "Collecting python-dateutil>=2.8.2\n",
      "  Downloading python_dateutil-2.8.2-py2.py3-none-any.whl (247 kB)\n",
      "     ━━━━━━━━━━━━━━━━━━━━━━━━━━━━━━━━━━━━━━ 247.7/247.7 kB 26.4 MB/s eta 0:00:00\n",
      "Requirement already satisfied: toolz>=0.8.0 in /usr/local/lib/python3.10/site-packages (from cytoolz->cooler) (0.12.0)\n",
      "Collecting dill>=0.3.6\n",
      "  Downloading dill-0.3.6-py3-none-any.whl (110 kB)\n",
      "     ━━━━━━━━━━━━━━━━━━━━━━━━━━━━━━━━━━━━━━ 110.5/110.5 kB 14.0 MB/s eta 0:00:00\n",
      "Requirement already satisfied: setuptools in /usr/local/lib/python3.10/site-packages (from pyfaidx->cooler) (65.6.3)\n",
      "Collecting six\n",
      "  Downloading six-1.16.0-py2.py3-none-any.whl (11 kB)\n",
      "Building wheels for collected packages: asciitree\n",
      "  Building wheel for asciitree (setup.py): started\n",
      "  Building wheel for asciitree (setup.py): finished with status 'done'\n",
      "  Created wheel for asciitree: filename=asciitree-0.3.3-py3-none-any.whl size=5034 sha256=b0cc5495e8725dbead3a4eaab73520532c04b52bae94218d397cdb2e4907376b\n",
      "  Stored in directory: /root/.cache/pip/wheels/7f/4e/be/1171b40f43b918087657ec57cf3b81fa1a2e027d8755baa184\n",
      "Successfully built asciitree\n",
      "Installing collected packages: pytz, asciitree, tzdata, six, simplejson, pyyaml, numpy, dill, cytoolz, click, scipy, python-dateutil, pyfaidx, multiprocess, h5py, pandas, cooler\n",
      "Successfully installed asciitree-0.3.3 click-8.1.3 cooler-0.9.1 cytoolz-0.12.1 dill-0.3.6 h5py-3.8.0 multiprocess-0.70.14 numpy-1.24.3 pandas-2.0.1 pyfaidx-0.7.2.1 python-dateutil-2.8.2 pytz-2023.3 pyyaml-6.0 scipy-1.10.1 simplejson-3.19.1 six-1.16.0 tzdata-2023.3\n",
      "Looking in indexes: https://pypi.org/simple, https://us-python.pkg.dev/colab-wheels/public/simple/\n",
      "Collecting hicrep\n",
      "  Downloading hicrep-0.2.6.tar.gz (22 kB)\n",
      "  Preparing metadata (setup.py): started\n",
      "  Preparing metadata (setup.py): finished with status 'done'\n",
      "Collecting Deprecated\n",
      "  Downloading Deprecated-1.2.13-py2.py3-none-any.whl (9.6 kB)\n",
      "Requirement already satisfied: numpy>=1.17.0 in /usr/local/lib/python3.10/site-packages (from hicrep) (1.24.3)\n",
      "Requirement already satisfied: scipy in /usr/local/lib/python3.10/site-packages (from hicrep) (1.10.1)\n",
      "Requirement already satisfied: cooler in /usr/local/lib/python3.10/site-packages (from hicrep) (0.9.1)\n",
      "Requirement already satisfied: pandas in /usr/local/lib/python3.10/site-packages (from hicrep) (2.0.1)\n",
      "Requirement already satisfied: h5py in /usr/local/lib/python3.10/site-packages (from hicrep) (3.8.0)\n",
      "Requirement already satisfied: multiprocess in /usr/local/lib/python3.10/site-packages (from cooler->hicrep) (0.70.14)\n",
      "Requirement already satisfied: pyyaml in /usr/local/lib/python3.10/site-packages (from cooler->hicrep) (6.0)\n",
      "Requirement already satisfied: simplejson in /usr/local/lib/python3.10/site-packages (from cooler->hicrep) (3.19.1)\n",
      "Requirement already satisfied: pyfaidx in /usr/local/lib/python3.10/site-packages (from cooler->hicrep) (0.7.2.1)\n",
      "Requirement already satisfied: cytoolz in /usr/local/lib/python3.10/site-packages (from cooler->hicrep) (0.12.1)\n",
      "Requirement already satisfied: asciitree in /usr/local/lib/python3.10/site-packages (from cooler->hicrep) (0.3.3)\n",
      "Requirement already satisfied: click>=7 in /usr/local/lib/python3.10/site-packages (from cooler->hicrep) (8.1.3)\n",
      "Requirement already satisfied: pytz>=2020.1 in /usr/local/lib/python3.10/site-packages (from pandas->hicrep) (2023.3)\n",
      "Requirement already satisfied: python-dateutil>=2.8.2 in /usr/local/lib/python3.10/site-packages (from pandas->hicrep) (2.8.2)\n",
      "Requirement already satisfied: tzdata>=2022.1 in /usr/local/lib/python3.10/site-packages (from pandas->hicrep) (2023.3)\n",
      "Collecting wrapt<2,>=1.10\n",
      "  Downloading wrapt-1.15.0-cp310-cp310-manylinux_2_5_x86_64.manylinux1_x86_64.manylinux_2_17_x86_64.manylinux2014_x86_64.whl (78 kB)\n",
      "     ━━━━━━━━━━━━━━━━━━━━━━━━━━━━━━━━━━━━━━━━ 78.4/78.4 kB 6.6 MB/s eta 0:00:00\n",
      "Requirement already satisfied: six>=1.5 in /usr/local/lib/python3.10/site-packages (from python-dateutil>=2.8.2->pandas->hicrep) (1.16.0)\n",
      "Requirement already satisfied: toolz>=0.8.0 in /usr/local/lib/python3.10/site-packages (from cytoolz->cooler->hicrep) (0.12.0)\n",
      "Requirement already satisfied: dill>=0.3.6 in /usr/local/lib/python3.10/site-packages (from multiprocess->cooler->hicrep) (0.3.6)\n",
      "Requirement already satisfied: setuptools in /usr/local/lib/python3.10/site-packages (from pyfaidx->cooler->hicrep) (65.6.3)\n",
      "Building wheels for collected packages: hicrep\n",
      "  Building wheel for hicrep (setup.py): started\n",
      "  Building wheel for hicrep (setup.py): finished with status 'done'\n",
      "  Created wheel for hicrep: filename=hicrep-0.2.6-py3-none-any.whl size=34756 sha256=a3156108648ff66d31dd117a9a20baa34f6dc0ba791d1d453e1f45c2bafef696\n",
      "  Stored in directory: /root/.cache/pip/wheels/21/75/06/6354db4851e5edd4899df43eded6240031885d7df3d5184d7a\n",
      "Successfully built hicrep\n",
      "Installing collected packages: wrapt, Deprecated, hicrep\n",
      "Successfully installed Deprecated-1.2.13 hicrep-0.2.6 wrapt-1.15.0\n"
     ]
    },
    {
     "name": "stderr",
     "output_type": "stream",
     "text": [
      "WARNING: Running pip as the 'root' user can result in broken permissions and conflicting behaviour with the system package manager. It is recommended to use a virtual environment instead: https://pip.pypa.io/warnings/venv\n",
      "WARNING: Running pip as the 'root' user can result in broken permissions and conflicting behaviour with the system package manager. It is recommended to use a virtual environment instead: https://pip.pypa.io/warnings/venv\n"
     ]
    }
   ],
   "source": [
    "%%bash \n",
    "pip install cooler\n",
    "pip install hicrep\n"
   ]
  },
  {
   "cell_type": "code",
   "execution_count": 1,
   "metadata": {
    "id": "iG0TD4Bn1fob"
   },
   "outputs": [],
   "source": [
    "import matplotlib.pyplot as plt"
   ]
  },
  {
   "cell_type": "code",
   "execution_count": 2,
   "metadata": {
    "id": "cuRWerkAKrYK"
   },
   "outputs": [],
   "source": [
    "import cooler"
   ]
  },
  {
   "cell_type": "code",
   "execution_count": 3,
   "metadata": {
    "id": "IRWfAgdaNqY4"
   },
   "outputs": [],
   "source": [
    "import numpy as np"
   ]
  },
  {
   "cell_type": "code",
   "execution_count": 4,
   "metadata": {
    "colab": {
     "base_uri": "https://localhost:8080/"
    },
    "id": "yAYb9Fjtd2jM",
    "outputId": "4ff77c9b-8954-45b9-9c3c-5c983e1d5118"
   },
   "outputs": [
    {
     "name": "stdout",
     "output_type": "stream",
     "text": [
      "Mounted at /content/drive\n"
     ]
    }
   ],
   "source": [
    "from google.colab import drive\n",
    "drive.mount('/content/drive')"
   ]
  },
  {
   "cell_type": "code",
   "execution_count": 5,
   "metadata": {
    "id": "5e7bHb3Y0l68"
   },
   "outputs": [],
   "source": [
    "import seaborn as sns\n",
    "import pandas as pd\n",
    "import hicrep\n",
    "from hicrep import hicrepSCC\n",
    "from hicrep.utils import readMcool"
   ]
  },
  {
   "cell_type": "code",
   "execution_count": 6,
   "metadata": {
    "colab": {
     "base_uri": "https://localhost:8080/"
    },
    "id": "yeq5Q9iFZq6c",
    "outputId": "1d95e274-7ebc-4196-b493-71be5f9fa221"
   },
   "outputs": [
    {
     "name": "stdout",
     "output_type": "stream",
     "text": [
      "Downloading...\n",
      "From: https://drive.google.com/uc?id=1dtuPlh4PR6kJPmwReRKWcOhAcAx-YyBE\n",
      "To: /content/HiC1.dm3.mapq_30.1000.mcool\n",
      "100% 124M/124M [00:02<00:00, 50.6MB/s]\n"
     ]
    }
   ],
   "source": [
    "!gdown 1dtuPlh4PR6kJPmwReRKWcOhAcAx-YyBE"
   ]
  },
  {
   "cell_type": "code",
   "execution_count": 7,
   "metadata": {
    "id": "45gps2TTAtTg"
   },
   "outputs": [],
   "source": [
    "mcool ='HiC1.dm3.mapq_30.1000.mcool'\n"
   ]
  },
  {
   "cell_type": "code",
   "execution_count": 8,
   "metadata": {
    "id": "Sj3zYDXTiuxe"
   },
   "outputs": [],
   "source": [
    "resolution = 20000\n",
    "clr = cooler.Cooler(f'{mcool}::resolutions/{resolution}')"
   ]
  },
  {
   "cell_type": "markdown",
   "metadata": {
    "id": "U8rtlqHj7Kut"
   },
   "source": [
    "Tasks for seminar:   \n",
    "1) get info and attributes of Hi-C matrix with cooler.info  \n",
    "2) open cooler object as balanced matrix for intrachromosomal contacts   \n",
    "3) open cooler as unbalanced matrix for interchromosomal contacts  \n",
    "4) get table with coordinates and contacts, are they raw or balanced?  \n",
    "5) get the table in command line with command *cooler dump*  \n",
    "6) look at the table with bins, which columns present there?  \n",
    "7) plot a piece of map (log)  \n",
    "8) scaling plot  (in log - log coordinates)  \n",
    "9) replicates clusterization\n",
    "\n"
   ]
  },
  {
   "cell_type": "code",
   "execution_count": 9,
   "metadata": {
    "id": "0bv3-eusKlKN"
   },
   "outputs": [],
   "source": [
    "m=clr.matrix(balance=True).fetch('chrX')"
   ]
  },
  {
   "cell_type": "code",
   "execution_count": 10,
   "metadata": {
    "id": "RglNL-7WMjSb"
   },
   "outputs": [],
   "source": [
    "pix=clr.pixels(join=True)[:]"
   ]
  },
  {
   "cell_type": "code",
   "execution_count": 11,
   "metadata": {
    "id": "eqOAvjUAMuZF"
   },
   "outputs": [],
   "source": [
    "bins=clr.bins()[:]"
   ]
  },
  {
   "cell_type": "code",
   "execution_count": 12,
   "metadata": {
    "colab": {
     "base_uri": "https://localhost:8080/",
     "height": 486
    },
    "id": "Q87gspNCNMNJ",
    "outputId": "ab69ffd8-6f34-4ba8-fe7a-6b99f7ff2b32"
   },
   "outputs": [
    {
     "name": "stderr",
     "output_type": "stream",
     "text": [
      "<ipython-input-12-57c1b47ce89e>:1: RuntimeWarning: divide by zero encountered in log\n",
      "  plt.imshow(np.log(m[120:180,120:180]),cmap='coolwarm')\n"
     ]
    },
    {
     "data": {
      "text/plain": [
       "<matplotlib.image.AxesImage at 0x7f651800c6d0>"
      ]
     },
     "execution_count": 12,
     "metadata": {},
     "output_type": "execute_result"
    },
    {
     "data": {
      "image/png": "[encoded data removed]",
      "text/plain": [
       "<Figure size 640x480 with 1 Axes>"
      ]
     },
     "metadata": {},
     "output_type": "display_data"
    }
   ],
   "source": [
    "plt.imshow(np.log(m[120:180,120:180]),cmap='coolwarm')"
   ]
  },
  {
   "cell_type": "code",
   "execution_count": 13,
   "metadata": {
    "colab": {
     "base_uri": "https://localhost:8080/"
    },
    "id": "8zHqczj8NnFP",
    "outputId": "a92f67b4-3fd2-4dac-f5e0-eb69a494f6b8"
   },
   "outputs": [
    {
     "name": "stderr",
     "output_type": "stream",
     "text": [
      "<ipython-input-13-08370e28c84e>:4: RuntimeWarning: Mean of empty slice\n",
      "  z[i]=np.nanmean(np.diagonal(m,i)) # добавим в массив среднее число count-ов в диагонали\n"
     ]
    }
   ],
   "source": [
    "##!!! write comments for each row\n",
    "z=np.zeros(len(m)) # создаём пустой массив нулей размера |m|\n",
    "for i in range(len(m)): # для каждой i-ой диагонали\n",
    "  z[i]=np.nanmean(np.diagonal(m,i)) # добавим в массив среднее число count-ов в диагонали"
   ]
  },
  {
   "cell_type": "code",
   "execution_count": 16,
   "metadata": {
    "colab": {
     "base_uri": "https://localhost:8080/",
     "height": 476
    },
    "id": "m24kzwmAOoNa",
    "outputId": "439c4d27-4da9-4c2c-c7cd-be25bc2cee9d"
   },
   "outputs": [
    {
     "data": {
      "image/png": "[encoded data removed]",
      "text/plain": [
       "<Figure size 640x480 with 1 Axes>"
      ]
     },
     "metadata": {},
     "output_type": "display_data"
    }
   ],
   "source": [
    "##!!! write comments for each row\n",
    "##!!! why do we paste 20000 below? \n",
    "# 20000 - размер бина матрицы Hi-C. i-ый бин соответствует расстоянию i*20000\n",
    "plt.plot(np.arange(len(m))*20000,z)\n",
    "# строим зависимость логарифма среднего числа count-ов диагоналей в зависимости от расстояния между фрагментами\n",
    "plt.xscale('log') # лог. шкала абсцисс\n",
    "plt.yscale('log') # лог. шкала ординат\n",
    "\n",
    "plt.title('Scaling plot') # Заголовок графика\n",
    "plt.xlabel('Distance, b.p.') # подпись оси абсцисс\n",
    "plt.ylabel('Contact Probability'); # подпись оси ординат"
   ]
  },
  {
   "cell_type": "markdown",
   "metadata": {
    "id": "Wc04V2rcdION"
   },
   "source": [
    "График показывает частоту (вероятность) контактов между участками в зависимости от расстояния между ними. По оси абсцисс находится расстояние между участками, по оси ординат - частота контактов. Для хороших данных мы ожидаем увидеть плавно спадающий график."
   ]
  },
  {
   "cell_type": "code",
   "execution_count": null,
   "metadata": {
    "id": "1RTtrd6iHjKm"
   },
   "outputs": [],
   "source": []
  },
  {
   "cell_type": "markdown",
   "metadata": {
    "id": "7et5Shej9Bcm"
   },
   "source": [
    "Replicates clusterization with stratum-adjusted correlation coefficient (scc)\n",
    "\n",
    "\n",
    "We have replicates for 2 *drosophila* cell lines: Bg3 and Kc167.  \n",
    "Bg3 - nervous cell line (HiC1...., HiC2... files)   \n",
    "Kc167 - embryonic cell line  (HiC3...., HiC4... files)  \n",
    "The aim is to conduct replicates clusterization, using scc and demonstrate  that replicates of same cell line tend to be closer to each other comparing with different cell types.    \n",
    "Hicrep can only calculate scc for each chromosome separately.  \n",
    "This is why you obtain several values with hicrepSCC function (run code below). The number of the values is equal to the number of chromosomes in cool file. So lets imagine, you take 2 mcool (or cool) files and decide to calculate scc between Hi-C matrices storing in these files only for chromosome 'chr2L', than for 'chr2R', etc. You will obtain as many scc as there are chromosomes in the Hi-C map. This is exactly what hicrepSCC function gives as an output. But then, to get single general scc value for 2 Hi-C maps (2 replicates) you should calculate average value of scc across all the chromosomes.   \n",
    "So you have an scc (averaged across chrs) for each pair of samples (HiC1-HiC2,HiC1-HiC3,HiC1-HiC4,HiC2-HiC3,HiC2-HiC4,HiC3-HiC4). Now you can use these values as the measure of similarity between each 2 samples and build a dendrogram.  \n",
    "To do this, you should construct symmetric matrix of similarity from calculated SCCs with ones on the diagonal.\n",
    "This matrix should be used as an input for 'linkage' function (see below)"
   ]
  },
  {
   "cell_type": "code",
   "execution_count": 17,
   "metadata": {
    "colab": {
     "base_uri": "https://localhost:8080/"
    },
    "id": "9uBXPNVQegt3",
    "outputId": "7c16db26-f4d8-44d1-c418-51dc40aa6135"
   },
   "outputs": [
    {
     "name": "stdout",
     "output_type": "stream",
     "text": [
      "Downloading...\n",
      "From: https://drive.google.com/uc?id=1dtuPlh4PR6kJPmwReRKWcOhAcAx-YyBE\n",
      "To: /content/HiC1.dm3.mapq_30.1000.mcool\n",
      "100% 124M/124M [00:00<00:00, 168MB/s]\n",
      "Downloading...\n",
      "From: https://drive.google.com/uc?id=1MPzzTmu3jNymHpLNv9oQkkOQR_r3C1AM\n",
      "To: /content/HiC2.dm3.mapq_30.1000.mcool\n",
      "100% 127M/127M [00:04<00:00, 28.1MB/s]\n"
     ]
    }
   ],
   "source": [
    "!gdown 1dtuPlh4PR6kJPmwReRKWcOhAcAx-YyBE\n",
    "!gdown 1MPzzTmu3jNymHpLNv9oQkkOQR_r3C1AM"
   ]
  },
  {
   "cell_type": "code",
   "execution_count": 18,
   "metadata": {
    "colab": {
     "base_uri": "https://localhost:8080/"
    },
    "id": "CUnOqdB9hm8S",
    "outputId": "b9548201-5f91-4b69-ddc2-93fc7cc6f0ef"
   },
   "outputs": [
    {
     "name": "stdout",
     "output_type": "stream",
     "text": [
      "Downloading...\n",
      "From: https://drive.google.com/uc?id=1hXry50UpQwOkr6kCeLVzL_Qca4o6BwN-\n",
      "To: /content/HiC3.dm3.mapq_30.1000.mcool\n",
      "100% 104M/104M [00:01<00:00, 54.5MB/s] \n",
      "Downloading...\n",
      "From: https://drive.google.com/uc?id=1cG2rfyjV0Mx-VO3ftXZSJ6tZG9MJXF7B\n",
      "To: /content/HiC4.dm3.mapq_30.1000.mcool\n",
      "100% 126M/126M [00:04<00:00, 31.3MB/s]\n"
     ]
    }
   ],
   "source": [
    "!gdown 1hXry50UpQwOkr6kCeLVzL_Qca4o6BwN-\n",
    "!gdown 1cG2rfyjV0Mx-VO3ftXZSJ6tZG9MJXF7B"
   ]
  },
  {
   "cell_type": "code",
   "execution_count": 19,
   "metadata": {
    "colab": {
     "base_uri": "https://localhost:8080/"
    },
    "id": "IEGZxslHHK2O",
    "outputId": "b7c49bce-a92f-4fcf-8d11-7bc2b363797c"
   },
   "outputs": [
    {
     "name": "stderr",
     "output_type": "stream",
     "text": [
      "/usr/local/lib/python3.10/site-packages/hicrep/hicrep.py:91: RuntimeWarning: invalid value encountered in double_scalars\n",
      "  return rhoNan2Zero @ wsNan2Zero / wsNan2Zero.sum()\n"
     ]
    }
   ],
   "source": [
    "### the code is for calculation of scc between HiC1.dm3.mapq_30.1000.mcool and HiC2.dm3.mapq_30.1000.mcool\n",
    "##!!! describe the next four parameter (as comments)\n",
    "binSize = 20000 # значение размера бина\n",
    "dBPMax = 5000000 # макс. расстояние, на котором будут учитываться контакты\n",
    "bDownSample = True # делать ли уменьшение семплирования для несовпадаюищих по размеру образцов\n",
    "h=0 # параметр для фильтра внутри алгоритма  при работе с матрицами\n",
    "\n",
    "fmcool1 = 'HiC1.dm3.mapq_30.1000.mcool'\n",
    "fmcool2 = 'HiC2.dm3.mapq_30.1000.mcool'\n",
    "cool1, binSize1 = readMcool(fmcool1, binSize)\n",
    "cool2, binSize2 = readMcool(fmcool2, binSize)\n",
    "scc=hicrepSCC(cool1, cool2, h, dBPMax, bDownSample)\n",
    "\n"
   ]
  },
  {
   "cell_type": "code",
   "execution_count": 21,
   "metadata": {
    "colab": {
     "base_uri": "https://localhost:8080/"
    },
    "id": "XQwOxUG4ihVM",
    "outputId": "5187f79a-b3e2-4151-def2-56d306755246"
   },
   "outputs": [
    {
     "data": {
      "text/plain": [
       "array([0.6129397 , 0.5768267 , 0.76475088, 0.5767983 , 0.88104427,\n",
       "       0.62127888,        nan])"
      ]
     },
     "execution_count": 21,
     "metadata": {},
     "output_type": "execute_result"
    }
   ],
   "source": [
    "scc"
   ]
  },
  {
   "cell_type": "code",
   "execution_count": 31,
   "metadata": {
    "colab": {
     "base_uri": "https://localhost:8080/"
    },
    "id": "b3ylTOLXlwke",
    "outputId": "aa2d59d9-4401-4318-b621-7fee2590dc7a"
   },
   "outputs": [
    {
     "name": "stderr",
     "output_type": "stream",
     "text": [
      "/usr/local/lib/python3.10/site-packages/hicrep/hicrep.py:91: RuntimeWarning: invalid value encountered in double_scalars\n",
      "  return rhoNan2Zero @ wsNan2Zero / wsNan2Zero.sum()\n",
      "/usr/local/lib/python3.10/site-packages/hicrep/hicrep.py:91: RuntimeWarning: invalid value encountered in double_scalars\n",
      "  return rhoNan2Zero @ wsNan2Zero / wsNan2Zero.sum()\n",
      "/usr/local/lib/python3.10/site-packages/hicrep/hicrep.py:91: RuntimeWarning: invalid value encountered in double_scalars\n",
      "  return rhoNan2Zero @ wsNan2Zero / wsNan2Zero.sum()\n",
      "/usr/local/lib/python3.10/site-packages/hicrep/hicrep.py:91: RuntimeWarning: invalid value encountered in double_scalars\n",
      "  return rhoNan2Zero @ wsNan2Zero / wsNan2Zero.sum()\n",
      "/usr/local/lib/python3.10/site-packages/hicrep/hicrep.py:91: RuntimeWarning: invalid value encountered in double_scalars\n",
      "  return rhoNan2Zero @ wsNan2Zero / wsNan2Zero.sum()\n",
      "/usr/local/lib/python3.10/site-packages/hicrep/hicrep.py:91: RuntimeWarning: invalid value encountered in double_scalars\n",
      "  return rhoNan2Zero @ wsNan2Zero / wsNan2Zero.sum()\n"
     ]
    },
    {
     "data": {
      "text/plain": [
       "array([[1.        , 0.67293392, 0.42014761, 0.39182045],\n",
       "       [0.67293392, 1.        , 0.4242003 , 0.39491033],\n",
       "       [0.42014761, 0.4242003 , 1.        , 0.65523491],\n",
       "       [0.39182045, 0.39491033, 0.65523491, 1.        ]])"
      ]
     },
     "execution_count": 31,
     "metadata": {},
     "output_type": "execute_result"
    }
   ],
   "source": [
    "# Now calculate scc for each pair of samples, average across chromosomes and create matrix of similarity\n",
    "\n",
    "def scc_pairwise(cool1, cool2):\n",
    "    cool1, binSize1 = readMcool(cool1, binSize)\n",
    "    cool2, binSize2 = readMcool(cool2, binSize)\n",
    "    return np.nanmean(hicrepSCC(cool1, cool2, h, dBPMax, bDownSample))\n",
    "\n",
    "\n",
    "corr_matrix = np.ones((4, 4))\n",
    "template = 'HiC{}.dm3.mapq_30.1000.mcool'\n",
    "for i, j in ((0, 1), (0, 2), (0, 3), (1, 2), (1, 3), (2, 3)):\n",
    "    val = scc_pairwise(template.format(i+1), template.format(j+1))\n",
    "    corr_matrix[i][j] = val\n",
    "    corr_matrix[j][i] = val\n",
    "\n",
    "corr_matrix"
   ]
  },
  {
   "cell_type": "code",
   "execution_count": 36,
   "metadata": {
    "colab": {
     "base_uri": "https://localhost:8080/",
     "height": 453
    },
    "id": "iuOQrGQbbe-h",
    "outputId": "2a13a1b1-aa15-41ec-8312-5e704e530c0a"
   },
   "outputs": [
    {
     "data": {
      "text/plain": [
       "<Axes: >"
      ]
     },
     "execution_count": 36,
     "metadata": {},
     "output_type": "execute_result"
    },
    {
     "data": {
      "image/png": "[encoded data removed]",
      "text/plain": [
       "<Figure size 640x480 with 2 Axes>"
      ]
     },
     "metadata": {},
     "output_type": "display_data"
    }
   ],
   "source": [
    "import seaborn as sns\n",
    "\n",
    "sns.heatmap(corr_matrix, cmap=\"coolwarm\", xticklabels=[1, 2, 3, 4], yticklabels=[1, 2, 3, 4], vmin=0)"
   ]
  },
  {
   "cell_type": "markdown",
   "metadata": {
    "id": "Xt__-fLYcJio"
   },
   "source": [
    "как можно видеть, первые два образца коррелириуют между собой, как и два последних. Первые два слабо коррелируют с последними двумя."
   ]
  },
  {
   "cell_type": "code",
   "execution_count": null,
   "metadata": {
    "id": "-clYV0nGb99R"
   },
   "outputs": [],
   "source": [
    "## A piece of code for the dendrogram generation"
   ]
  },
  {
   "cell_type": "code",
   "execution_count": 41,
   "metadata": {
    "colab": {
     "base_uri": "https://localhost:8080/",
     "height": 935
    },
    "id": "0k9wmWd-cPCE",
    "outputId": "c9422c59-1893-4110-b72f-cfd021dcbbd1"
   },
   "outputs": [
    {
     "data": {
      "text/plain": [
       "{'icoord': [[5.0, 5.0, 15.0, 15.0],\n",
       "  [25.0, 25.0, 35.0, 35.0],\n",
       "  [10.0, 10.0, 30.0, 30.0]],\n",
       " 'dcoord': [[0.0, 0.45007397803361926, 0.45007397803361926, 0.0],\n",
       "  [0.0, 0.5049415804235364, 0.5049415804235364, 0.0],\n",
       "  [0.45007397803361926,\n",
       "   1.7279985591740132,\n",
       "   1.7279985591740132,\n",
       "   0.5049415804235364]],\n",
       " 'ivl': ['HiC1 (Bg3)', 'HiC2 (Bg3)', 'HiC3 (Kc167)', 'HiC4 (Kc167)'],\n",
       " 'leaves': [0, 1, 2, 3],\n",
       " 'color_list': ['C0', 'C0', 'C0'],\n",
       " 'leaves_color_list': ['C0', 'C0', 'C0', 'C0']}"
      ]
     },
     "execution_count": 41,
     "metadata": {},
     "output_type": "execute_result"
    },
    {
     "data": {
      "image/png": "[encoded data removed]",
      "text/plain": [
       "<Figure size 800x800 with 1 Axes>"
      ]
     },
     "metadata": {},
     "output_type": "display_data"
    }
   ],
   "source": [
    "from scipy.cluster.hierarchy import linkage, dendrogram\n",
    "\n",
    "\n",
    "Z=linkage(corr_matrix, 'single', 'correlation')\n",
    "plt.figure(figsize=(8,8))\n",
    "plt.ylabel('distance')\n",
    "\n",
    "plt.title('Dendogram for Bg3 and Kc167 cell lines by SCC')\n",
    "dendrogram(Z, color_threshold=0, labels=['HiC1 (Bg3)', 'HiC2 (Bg3)', 'HiC3 (Kc167)', 'HiC4 (Kc167)'])\n",
    "\n"
   ]
  },
  {
   "cell_type": "code",
   "execution_count": null,
   "metadata": {
    "id": "D-3pAqB-Uurd"
   },
   "outputs": [],
   "source": []
  },
  {
   "cell_type": "code",
   "execution_count": null,
   "metadata": {
    "id": "OEc1Kb36Sssf"
   },
   "outputs": [],
   "source": []
  }
 ],
 "metadata": {
  "colab": {
   "provenance": []
  },
  "kernelspec": {
   "display_name": "Python 3 (ipykernel)",
   "language": "python",
   "name": "python3"
  },
  "language_info": {
   "codemirror_mode": {
    "name": "ipython",
    "version": 3
   },
   "file_extension": ".py",
   "mimetype": "text/x-python",
   "name": "python",
   "nbconvert_exporter": "python",
   "pygments_lexer": "ipython3",
   "version": "3.7.12"
  }
 },
 "nbformat": 4,
 "nbformat_minor": 4
}
